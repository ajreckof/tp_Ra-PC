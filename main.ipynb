{
 "cells": [
  {
   "cell_type": "code",
   "execution_count": 33,
   "metadata": {},
   "outputs": [
    {
     "name": "stdout",
     "output_type": "stream",
     "text": [
      "The autoreload extension is already loaded. To reload it, use:\n",
      "  %reload_ext autoreload\n"
     ]
    }
   ],
   "source": [
    "%load_ext autoreload\n",
    "%autoreload 2\n",
    "from case import *"
   ]
  },
  {
   "cell_type": "code",
   "execution_count": 36,
   "metadata": {},
   "outputs": [
    {
     "name": "stdout",
     "output_type": "stream",
     "text": [
      "1stFlrSF        False\n",
      "2ndFlrSF        False\n",
      "3SsnPorch       False\n",
      "Alley            True\n",
      "BedroomAbvGr    False\n",
      "                ...  \n",
      "YearBuilt       False\n",
      "YearRemodAdd    False\n",
      "YrSold          False\n",
      "LotFrontage       0.0\n",
      "LotArea             0\n",
      "Name: 1, Length: 80, dtype: object\n",
      "      MSSubClass MSZoning  LotFrontage  LotArea Street Alley LotShape  \\\n",
      "Id                                                                      \n",
      "1             60       RL         65.0     8450   Pave   NaN      Reg   \n",
      "959           20       RL         65.0     8450   Pave   NaN      Reg   \n",
      "217           20       RL         65.0     8450   Pave   NaN      Reg   \n",
      "743           20       RL         65.0     8450   Pave   NaN      Reg   \n",
      "420           20       RL         65.0     8450   Pave   NaN      Reg   \n",
      "120           60       RL         65.0     8461   Pave   NaN      Reg   \n",
      "699           20       RL         65.0     8450   Pave   NaN      Reg   \n",
      "921           60       RL         70.0     8462   Pave   NaN      IR1   \n",
      "1407          85       RL         70.0     8445   Pave   NaN      Reg   \n",
      "465           20       RL         60.0     8430   Pave   NaN      Reg   \n",
      "\n",
      "     LandContour Utilities LotConfig  ... PoolQC  Fence MiscFeature MiscVal  \\\n",
      "Id                                    ...                                     \n",
      "1            Lvl    AllPub    Inside  ...    NaN    NaN         NaN       0   \n",
      "959          Lvl    AllPub    Inside  ...    NaN    NaN         NaN       0   \n",
      "217          Lvl    AllPub    Inside  ...    NaN    NaN         NaN       0   \n",
      "743          Lvl    AllPub    Inside  ...    NaN  GdPrv         NaN       0   \n",
      "420          Lvl    AllPub    Inside  ...    NaN    NaN         NaN       0   \n",
      "120          Lvl    AllPub    Inside  ...    NaN    NaN         NaN       0   \n",
      "699          Lvl    AllPub    Inside  ...    NaN  MnPrv         NaN       0   \n",
      "921          Lvl    AllPub    Inside  ...    NaN    NaN         NaN       0   \n",
      "1407         Lvl    AllPub    Corner  ...    NaN  MnPrv         NaN       0   \n",
      "465          HLS    AllPub    Inside  ...    NaN    NaN         NaN       0   \n",
      "\n",
      "     MoSold YrSold  SaleType  SaleCondition  SalePrice  distances  \n",
      "Id                                                                 \n",
      "1         2   2008        WD         Normal     208500        5.0  \n",
      "959      10   2007        WD         Normal     185000       23.0  \n",
      "217       4   2008        WD         Normal     210000       25.0  \n",
      "743      12   2007        WD         Normal     179000       31.0  \n",
      "420       7   2010        WD         Normal     142000       38.0  \n",
      "120       7   2006       New        Partial     163990       39.0  \n",
      "699       4   2010        WD         Normal     138500       44.0  \n",
      "921       7   2007        WD         Normal     201000       48.0  \n",
      "1407      3   2009        WD         Normal     133000       50.0  \n",
      "465       8   2009        WD         Normal     124000       65.0  \n",
      "\n",
      "[10 rows x 81 columns]\n"
     ]
    },
    {
     "data": {
      "text/plain": [
       "167138.01340735712"
      ]
     },
     "execution_count": 36,
     "metadata": {},
     "output_type": "execute_result"
    }
   ],
   "source": [
    "cases = pd.read_csv(\"train.csv\", index_col=0)\n",
    "RPC = RaisonementParCas(cases, 10)\n",
    "RPC.get_prediction(cases.iloc[0])"
   ]
  },
  {
   "cell_type": "code",
   "execution_count": 30,
   "metadata": {},
   "outputs": [
    {
     "name": "stdout",
     "output_type": "stream",
     "text": [
      "      MSSubClass MSZoning  LotFrontage  LotArea Street Alley LotShape  \\\n",
      "Id                                                                      \n",
      "1             60       RL         65.0     8450   Pave   NaN      Reg   \n",
      "1241          60       RL         65.0     8158   Pave   NaN      Reg   \n",
      "249           60       RL         72.0    11317   Pave   NaN      Reg   \n",
      "65            60       RL          NaN     9375   Pave   NaN      Reg   \n",
      "959           20       RL         65.0     8450   Pave   NaN      Reg   \n",
      "\n",
      "     LandContour Utilities LotConfig  ... PoolQC  Fence MiscFeature MiscVal  \\\n",
      "Id                                    ...                                     \n",
      "1            Lvl    AllPub    Inside  ...    NaN    NaN         NaN       0   \n",
      "1241         Lvl    AllPub    Inside  ...    NaN    NaN         NaN       0   \n",
      "249          Lvl    AllPub    Inside  ...    NaN    NaN         NaN       0   \n",
      "65           Lvl    AllPub    Inside  ...    NaN  GdPrv         NaN       0   \n",
      "959          Lvl    AllPub    Inside  ...    NaN    NaN         NaN       0   \n",
      "\n",
      "     MoSold YrSold  SaleType  SaleCondition  SalePrice  distances  \n",
      "Id                                                                 \n",
      "1         2   2008        WD         Normal     208500          5  \n",
      "1241      7   2008        WD         Normal     224900         18  \n",
      "249       9   2007        WD         Normal     180000         23  \n",
      "65        2   2009        WD         Normal     219500         24  \n",
      "959      10   2007        WD         Normal     185000         24  \n",
      "\n",
      "[5 rows x 81 columns]\n",
      "186945.70389789724\n"
     ]
    },
    {
     "data": {
      "text/plain": [
       "208500"
      ]
     },
     "execution_count": 30,
     "metadata": {},
     "output_type": "execute_result"
    }
   ],
   "source": [
    "\n"
   ]
  }
 ],
 "metadata": {
  "kernelspec": {
   "display_name": "Python 3.10.13 ('base')",
   "language": "python",
   "name": "python3"
  },
  "language_info": {
   "codemirror_mode": {
    "name": "ipython",
    "version": 3
   },
   "file_extension": ".py",
   "mimetype": "text/x-python",
   "name": "python",
   "nbconvert_exporter": "python",
   "pygments_lexer": "ipython3",
   "version": "3.10.13"
  },
  "orig_nbformat": 4,
  "vscode": {
   "interpreter": {
    "hash": "a5a318b75a7586e7126ee807ac3c15c9d32b27634cac574e72ad2f13c9c76b5e"
   }
  }
 },
 "nbformat": 4,
 "nbformat_minor": 2
}
